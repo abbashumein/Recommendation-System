{
 "cells": [
  {
   "cell_type": "markdown",
   "id": "27cd659e",
   "metadata": {},
   "source": [
    "1. Data Preprocessing"
   ]
  },
  {
   "cell_type": "code",
   "execution_count": 1,
   "id": "f88c0f9b",
   "metadata": {
    "scrolled": true
   },
   "outputs": [
    {
     "name": "stdout",
     "output_type": "stream",
     "text": [
      "      show_id   type                                           title  \\\n",
      "0      498716  Movie                        Ferris Bueller's Day Off   \n",
      "1    60000861  Movie                                 American Psycho   \n",
      "2    60010488  Movie            Indiana Jones and the Temple of Doom   \n",
      "3      516154  Movie                           For the Love of Benji   \n",
      "4    20764666  Movie                           English Babu Desi Mem   \n",
      "..        ...    ...                                             ...   \n",
      "248  17687959  Movie                                    The Waterboy   \n",
      "249  60001807  Movie  The Naked Gun: From the Files of Police Squad!   \n",
      "250   1181550  Movie                                        Scream 2   \n",
      "251  17457962  Movie                                 Raja Hindustani   \n",
      "252  20712279  Movie                                          Kaalia   \n",
      "\n",
      "             director                                               cast  \\\n",
      "0         John Hughes  Matthew Broderick, Alan Ruck, Mia Sara, Jeffre...   \n",
      "1         Mary Harron  Christian Bale, Willem Dafoe, Jared Leto, Rees...   \n",
      "2    Steven Spielberg  Harrison Ford, Kate Capshaw, Amrish Puri, Rosh...   \n",
      "3            Joe Camp  Patsy Garrett, Cynthia Smith, Allen Fiuzat, Ed...   \n",
      "4     Praveen Nischol  Shah Rukh Khan, Sonali Bendre, Rajeshwari, Sae...   \n",
      "..                ...                                                ...   \n",
      "248      Frank Coraci  Adam Sandler, Kathy Bates, Henry Winkler, Fair...   \n",
      "249      David Zucker  Leslie Nielsen, Priscilla Presley, Ricardo Mon...   \n",
      "250        Wes Craven  Neve Campbell, David Arquette, Courteney Cox, ...   \n",
      "251  Dharmesh Darshan  Aamir Khan, Karisma Kapoor, Suresh Oberoi, Joh...   \n",
      "252       Tinnu Anand  Amitabh Bachchan, Asha Parekh, Parveen Babi, A...   \n",
      "\n",
      "                   country date_added  release_year rating duration  \\\n",
      "0            United States 2020-01-03          1986  PG-13  103 min   \n",
      "1    United States, Canada 2019-09-01          2000      R  102 min   \n",
      "2            United States 2019-01-01          1984     PG  119 min   \n",
      "3            United States 2018-03-06          1977      G   84 min   \n",
      "4                    India 2017-05-01          1996  TV-14  163 min   \n",
      "..                     ...        ...           ...    ...      ...   \n",
      "248          United States 2017-03-08          1998  PG-13   90 min   \n",
      "249          United States 2020-01-01          1988  PG-13   85 min   \n",
      "250          United States 2019-10-01          1997      R  121 min   \n",
      "251                  India 2017-05-01          1996  TV-14  177 min   \n",
      "252                  India 2019-12-31          1981  TV-14  173 min   \n",
      "\n",
      "                                                 genre  \\\n",
      "0                Classic Movies, Comedies, Cult Movies   \n",
      "1                        Comedies, Cult Movies, Dramas   \n",
      "2    Action & Adventure, Children & Family Movies, ...   \n",
      "3                             Children & Family Movies   \n",
      "4               Comedies, Dramas, International Movies   \n",
      "..                                                 ...   \n",
      "248                            Comedies, Sports Movies   \n",
      "249                              Comedies, Cult Movies   \n",
      "250                                      Horror Movies   \n",
      "251      Dramas, International Movies, Romantic Movies   \n",
      "252   Action & Adventure, Dramas, International Movies   \n",
      "\n",
      "                                           description  age  gender  \\\n",
      "0    Ferris convinces his entire school he's at dea...   31    Male   \n",
      "1    With chiseled good looks that belie his insani...   64  Female   \n",
      "2    Indiana Jones, his young sidekick and a spoile...   50  Female   \n",
      "3    Benji and his owner get separated in Greece. O...   58  Female   \n",
      "4    After his brother dies, wealthy Vikram relucta...   62    Male   \n",
      "..                                                 ...  ...     ...   \n",
      "248  A water boy for a college football team has a ...   45    Male   \n",
      "249  In this slapstick comedy classic, hapless cop ...   63    Male   \n",
      "250  Gale has written a best-seller which has been ...   31    Male   \n",
      "251  When a poor taxi driver falls in love with a w...   36  Female   \n",
      "252  Jailed for robbing his brother’s unscrupulous ...   53    Male   \n",
      "\n",
      "    preference  user_id  user_ratings  \n",
      "0    Animation        0             3  \n",
      "1      Western        1             1  \n",
      "2        Crime        2             3  \n",
      "3      Western        3             5  \n",
      "4       Action        4             3  \n",
      "..         ...      ...           ...  \n",
      "248     Comedy     7483             2  \n",
      "249     Horror     7880             5  \n",
      "250    Western     8000             2  \n",
      "251     Sci-Fi     8033             1  \n",
      "252     Sci-Fi     8160             5  \n",
      "\n",
      "[253 rows x 17 columns]\n"
     ]
    }
   ],
   "source": [
    "import pandas as pd\n",
    "\n",
    "# Load the data frame\n",
    "data = pd.read_excel(r\"C:\\Users\\Alee Abbas\\Downloads\\Newfile.xlsx\")\n",
    "print(data)"
   ]
  },
  {
   "cell_type": "markdown",
   "id": "8c49b41a",
   "metadata": {},
   "source": [
    "2. Identying items and Users in Pandas"
   ]
  },
  {
   "cell_type": "code",
   "execution_count": 2,
   "id": "c85449cd",
   "metadata": {},
   "outputs": [
    {
     "name": "stdout",
     "output_type": "stream",
     "text": [
      "Unique Users: 253\n",
      "Unique Items: 250\n"
     ]
    }
   ],
   "source": [
    "import pandas as pd\n",
    "data = pd.read_excel(r\"C:\\Users\\Alee Abbas\\Downloads\\Newfile.xlsx\")\n",
    "# Identify unique users based on combinations of attributes\n",
    "user_columns = ['director', 'cast', 'country', 'age', 'gender'] \n",
    "users = data[user_columns].drop_duplicates()\n",
    "# Identify unique items (shows) using the 'show_id' column\n",
    "items = data['show_id'].unique()\n",
    "\n",
    "print(\"Unique Users:\", len(users))\n",
    "print(\"Unique Items:\", len(items))"
   ]
  },
  {
   "cell_type": "markdown",
   "id": "3ffd9751",
   "metadata": {},
   "source": [
    "3. User- Item interaction Matrix"
   ]
  },
  {
   "cell_type": "code",
   "execution_count": 3,
   "id": "2bb7ac01",
   "metadata": {},
   "outputs": [
    {
     "name": "stdout",
     "output_type": "stream",
     "text": [
      "[[1. 0. 0. ... 0. 0. 0.]\n",
      " [0. 1. 0. ... 0. 0. 0.]\n",
      " [0. 0. 1. ... 0. 0. 0.]\n",
      " ...\n",
      " [0. 0. 0. ... 0. 0. 0.]\n",
      " [0. 0. 0. ... 0. 1. 0.]\n",
      " [0. 0. 0. ... 0. 0. 1.]]\n"
     ]
    }
   ],
   "source": [
    "import pandas as pd\n",
    "import numpy as np\n",
    "\n",
    "# Load your dataset into a Pandas DataFrame\n",
    "data = pd.read_excel(r\"C:\\Users\\Alee Abbas\\Downloads\\Newfile.xlsx\")\n",
    "\n",
    "# Identify the user and item columns\n",
    "user_col = 'user_id'\n",
    "item_col = 'show_id'\n",
    "\n",
    "# Create a list of unique users and items\n",
    "unique_users = data[user_col].unique()\n",
    "unique_items = data[item_col].unique()\n",
    "\n",
    "# Create an empty user-item interaction matrix using NumPy\n",
    "interaction_matrix = np.zeros((len(unique_users), len(unique_items)))\n",
    "\n",
    "# Loop through the data to populate the interaction matrix with binary indicators\n",
    "for index, row in data.iterrows():\n",
    "    user_index = np.where(unique_users == row[user_col])[0][0]\n",
    "    item_index = np.where(unique_items == row[item_col])[0][0]\n",
    "    interaction_matrix[user_index, item_index] = 1  # Fill with binary indicator (1 for interaction, 0 for no interaction)\n",
    "\n",
    "# Now you have the user-item interaction matrix\n",
    "print(interaction_matrix)"
   ]
  },
  {
   "cell_type": "markdown",
   "id": "24da7f68",
   "metadata": {},
   "source": [
    "4. Implement user-based recommendations using cosine similarity"
   ]
  },
  {
   "cell_type": "code",
   "execution_count": 15,
   "id": "c29202b4",
   "metadata": {},
   "outputs": [
    {
     "name": "stdout",
     "output_type": "stream",
     "text": [
      "Title: Kaalia\n",
      "Release Year: 1981\n",
      "Cast: Amitabh Bachchan, Asha Parekh, Parveen Babi, Amjad Khan, Pran, K.N. Singh, Sajjan, Murad, Kader Khan, Jagdeep\n",
      "Director: Tinnu Anand\n",
      "Genre: Action & Adventure, Dramas, International Movies\n",
      "\n",
      "Title: Sling Blade\n",
      "Release Year: 1996\n",
      "Cast: Billy Bob Thornton, Dwight Yoakam, J.T. Walsh, John Ritter, Lucas Black, Natalie Canerday, James Hampton, Robert Duvall, Rick Dial, Brent Briscoe\n",
      "Director: Billy Bob Thornton\n",
      "Genre: Dramas, Independent Movies\n",
      "\n",
      "Title: Magnolia\n",
      "Release Year: 1999\n",
      "Cast: Jeremy Blackman, Tom Cruise, Melinda Dillon, April Grace, Luis Guzmán, Philip Baker Hall, Philip Seymour Hoffman, Ricky Jay, William H. Macy, Alfred Molina, Julianne Moore, Michael Murphy, John C. Reilly, Jason Robards, Melora Walters\n",
      "Director: Paul Thomas Anderson\n",
      "Genre: Dramas, Independent Movies\n",
      "\n",
      "Title: Mansfield Park\n",
      "Release Year: 1999\n",
      "Cast: Frances O'Connor, Embeth Davidtz, Jonny Lee Miller, Alessandro Nivola, Harold Pinter, Lindsay Duncan, Sheila Gish, James Purefoy, Victoria Hamilton, Hugh Bonneville\n",
      "Director: Patricia Rozema\n",
      "Genre: Comedies, Dramas, International Movies\n",
      "\n",
      "Title: Once Upon a Time in the West\n",
      "Release Year: 1968\n",
      "Cast: Henry Fonda, Charles Bronson, Claudia Cardinale, Jason Robards, Gabriele Ferzetti, Paolo Stoppa, Woody Strode, Jack Elam, Keenan Wynn, Frank Wolff, Lionel Stander\n",
      "Director: Sergio Leone\n",
      "Genre: Action & Adventure, Classic Movies, International Movies\n",
      "\n"
     ]
    }
   ],
   "source": [
    "#print(data.columns)\n",
    "#data.columns = data.columns.str.strip()\n",
    "#item_details = data[data['show_id'] == item_id]\n",
    "#print(item_details)\n",
    "\n",
    "\n",
    "import pandas as pd\n",
    "import numpy as np\n",
    "from sklearn.metrics.pairwise import cosine_similarity\n",
    "\n",
    "user_similarity = cosine_similarity(interaction_matrix)\n",
    "\n",
    "def get_recommendations_with_details(user_index, num_recommendations=5):\n",
    "    similar_users = user_similarity[user_index]\n",
    "    user_interactions = interaction_matrix[user_index]\n",
    "    \n",
    "    # Find items the user has not interacted with\n",
    "    items_not_interacted = np.where(user_interactions == 0)[0]\n",
    "    \n",
    "    # Calculate a recommendation score based on similar users' interactions\n",
    "    recommendation_scores = np.dot(similar_users, interaction_matrix)\n",
    "    \n",
    "    # Sort items by recommendation score\n",
    "    recommended_item_indices = np.argsort(recommendation_scores)[::-1]\n",
    "    \n",
    "    # Filter recommended items that the user has not interacted with\n",
    "    recommended_items = [unique_items[item_idx] for item_idx in recommended_item_indices if item_idx in items_not_interacted]\n",
    "    \n",
    "    # Retrieve detailed information for recommended items\n",
    "    recommended_items_details = []\n",
    "    for item_id in recommended_items[:num_recommendations]:\n",
    "        item_details = data[data['show_id'] == item_id].iloc[0]\n",
    "        recommended_items_details.append({\n",
    "            'show_id': item_id,\n",
    "            'title': item_details['title'],\n",
    "            'release_year': item_details['release_year'],\n",
    "            'cast': item_details['cast'],\n",
    "            'director': item_details['director'],\n",
    "            'genre': item_details['genre']  # Replace 'Genre' with the actual column name for genres\n",
    "        })\n",
    "    \n",
    "    return recommended_items_details\n",
    "\n",
    "# Example usage\n",
    "target_user_index = 7  # Replace with the index of your target user\n",
    "recommended_items_with_details = get_recommendations_with_details(target_user_index)\n",
    "for item in recommended_items_with_details:\n",
    "    print(\"Title:\", item['title'])\n",
    "    print(\"Release Year:\", item['release_year'])\n",
    "    print(\"Cast:\", item['cast'])\n",
    "    print(\"Director:\", item['director'])\n",
    "    print(\"Genre:\", item['genre'])\n",
    "    print()"
   ]
  },
  {
   "cell_type": "code",
   "execution_count": null,
   "id": "3a9efeb8",
   "metadata": {},
   "outputs": [],
   "source": []
  }
 ],
 "metadata": {
  "kernelspec": {
   "display_name": "Python 3 (ipykernel)",
   "language": "python",
   "name": "python3"
  },
  "language_info": {
   "codemirror_mode": {
    "name": "ipython",
    "version": 3
   },
   "file_extension": ".py",
   "mimetype": "text/x-python",
   "name": "python",
   "nbconvert_exporter": "python",
   "pygments_lexer": "ipython3",
   "version": "3.9.13"
  }
 },
 "nbformat": 4,
 "nbformat_minor": 5
}
